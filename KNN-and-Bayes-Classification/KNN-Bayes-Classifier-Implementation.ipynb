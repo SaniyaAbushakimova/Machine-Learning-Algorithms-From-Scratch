{
  "cells": [
    {
      "cell_type": "markdown",
      "metadata": {
        "id": "c1xAhhQlc0hQ"
      },
      "source": [
        "Date: 9/6/2024\n",
        "\n"
      ]
    },
    {
      "cell_type": "markdown",
      "metadata": {
        "id": "hQaYS1KXiwWh"
      },
      "source": [
        "# Part 1: Generating Data"
      ]
    },
    {
      "cell_type": "code",
      "execution_count": null,
      "metadata": {
        "id": "qIJZpXmeiyro"
      },
      "outputs": [],
      "source": [
        "# Imports & setting seed\n",
        "import numpy as np\n",
        "import matplotlib.pyplot as plt\n",
        "from sklearn.neighbors import KNeighborsClassifier\n",
        "from sklearn.utils import shuffle\n",
        "\n",
        "np.random.seed(42)"
      ]
    },
    {
      "cell_type": "code",
      "execution_count": null,
      "metadata": {
        "id": "VioyfyRgi4ga",
        "colab": {
          "base_uri": "https://localhost:8080/"
        },
        "outputId": "c21da07f-1c06-42c9-d043-7de7e76ec592"
      },
      "outputs": [
        {
          "output_type": "stream",
          "name": "stdout",
          "text": [
            "[[1 0]\n",
            " [1 0]\n",
            " [1 0]\n",
            " [1 0]\n",
            " [1 0]\n",
            " [1 0]\n",
            " [1 0]\n",
            " [1 0]\n",
            " [1 0]\n",
            " [1 0]]\n"
          ]
        }
      ],
      "source": [
        "# Generate 20 Centers, 1.1\n",
        "csize = 10\n",
        "p = 2\n",
        "s = 1    # sd for generating the centers within each class\n",
        "m1 = np.random.normal(size = (csize, p)) * s \\\n",
        "     + np.concatenate([np.array([[1, 0]] * csize)])\n",
        "m0 = np.random.normal(size = (csize, p)) * s \\\n",
        "     + np.concatenate([np.array([[0, 1]] * csize)])\n"
      ]
    },
    {
      "cell_type": "code",
      "execution_count": null,
      "metadata": {
        "colab": {
          "base_uri": "https://localhost:8080/"
        },
        "id": "UNcM2wOKjomC",
        "outputId": "aadd9504-816d-43ec-bf9f-7c71e43653a4"
      },
      "outputs": [
        {
          "output_type": "execute_result",
          "data": {
            "text/plain": [
              "(200, 2)"
            ]
          },
          "metadata": {},
          "execution_count": 3
        }
      ],
      "source": [
        "# n size of 100 for each of 2 groups\n",
        "n = 100\n",
        "# Randomly allocate the n samples for class 1  to the 10 clusters\n",
        "id1 = np.random.randint(csize, size = n)\n",
        "id0 = np.random.randint(csize, size = n)\n",
        "\n",
        "# sd for generating data\n",
        "s = np.sqrt(float(1)/5)\n",
        "# Generate training data, 1.2\n",
        "X_train = np.random.normal(size = (2 * n, p)) * s \\\n",
        "            + np.concatenate([m1[id1,:], m0[id0,:]])\n",
        "y_train = np.concatenate(([1]*n, [0]*n))\n",
        "X_train.shape"
      ]
    },
    {
      "cell_type": "code",
      "execution_count": null,
      "metadata": {
        "colab": {
          "base_uri": "https://localhost:8080/",
          "height": 430
        },
        "id": "P6-ERBWEjrPv",
        "outputId": "b0aa498c-d20a-4e0f-bf52-116be4e8d10d"
      },
      "outputs": [
        {
          "output_type": "display_data",
          "data": {
            "text/plain": [
              "<Figure size 640x480 with 1 Axes>"
            ],
            "image/png": "[encoded data removed]"
          },
          "metadata": {}
        }
      ],
      "source": [
        "# Plot Training data, 1.3\n",
        "plt.scatter(X_train[:n, 0], X_train[:n, 1], c = \"blue\", alpha=0.2, label='Class 1')\n",
        "plt.scatter(X_train[n:, 0], X_train[n:, 1], c = \"red\", alpha=0.2, label='Class 0')\n",
        "\n",
        "plt.scatter(m1[:,0], m1[:,1], marker = '+', s = 100, c = \"blue\")\n",
        "plt.scatter(m0[:,0], m0[:,1], marker = '+', s = 100, c = \"red\")\n",
        "\n",
        "plt.legend()\n",
        "plt.show()"
      ]
    },
    {
      "cell_type": "code",
      "execution_count": null,
      "metadata": {
        "colab": {
          "base_uri": "https://localhost:8080/"
        },
        "id": "4pP76gjaD-b6",
        "outputId": "1f7027b4-0da7-48ff-b7d6-b82f6de8fca9"
      },
      "outputs": [
        {
          "output_type": "execute_result",
          "data": {
            "text/plain": [
              "(10000, 2)"
            ]
          },
          "metadata": {},
          "execution_count": 5
        }
      ],
      "source": [
        "# Generate Test data using same centers, 1.2\n",
        "n = 5000\n",
        "id1 = np.random.randint(csize, size = n)\n",
        "id0 = np.random.randint(csize, size = n)\n",
        "\n",
        "# sd for generating data\n",
        "s = np.sqrt(float(1)/5)\n",
        "\n",
        "X_test = np.random.normal(size = (2 * n, p)) * s \\\n",
        "            + np.concatenate([m1[id1,:], m0[id0,:]])\n",
        "y_test = np.concatenate(([1]*n, [0]*n))\n",
        "X_test.shape"
      ]
    },
    {
      "cell_type": "markdown",
      "metadata": {
        "id": "LDAsfHJLmNoh"
      },
      "source": [
        "# Part 2: kNN"
      ]
    },
    {
      "cell_type": "markdown",
      "metadata": {
        "id": "U-sDOWp0yLwa"
      },
      "source": [
        "### Question 2.1:"
      ]
    },
    {
      "cell_type": "code",
      "execution_count": null,
      "metadata": {
        "id": "wF4LDeS5x2i0"
      },
      "outputs": [],
      "source": [
        "# Citation: https://jaykmody.com/blog/distance-matrices-with-numpy/\n",
        "\n",
        "def euclidean_dist(m1, m2):\n",
        "\n",
        "  x2 = np.sum(m1**2, axis=1)\n",
        "  y2 = np.sum(m2**2, axis=1)\n",
        "\n",
        "  xy = np.matmul(m1, m2.T)\n",
        "\n",
        "  x2 = x2.reshape(-1, 1)\n",
        "\n",
        "  # handling negative values inside np.sqrt\n",
        "  return np.sqrt(np.maximum(x2 - 2 * xy + y2, 0))\n",
        "\n",
        "\n",
        "# kNN implementation from scratch\n",
        "def kNN_classifier(train_data, X_test, k):\n",
        "\n",
        "  X_train = train_data[:,:-1]\n",
        "  y_train = train_data[:,-1].flatten()\n",
        "\n",
        "  predictions = np.empty(X_test.shape)\n",
        "\n",
        "  dist_matrix = euclidean_dist(X_train, X_test)\n",
        "\n",
        "  # np.argsort will handle distance tie as it uses stable sorting algorithm\n",
        "  sortedDistMatrix_idx = np.argsort(dist_matrix, axis=0)\n",
        "\n",
        "  # Select k nearest neighbors for each test point\n",
        "  kNN_idx = sortedDistMatrix_idx[:k,:]\n",
        "\n",
        "\n",
        "  # Calculating majority vote\n",
        "\n",
        "  # 1. Get the labels and distances of k nearest neighbors\n",
        "  kNN_labels = y_train[kNN_idx]\n",
        "  kNN_distances = np.take_along_axis(dist_matrix, kNN_idx, axis=0)\n",
        "\n",
        "  # 2. Calculate labels counts for majority voting\n",
        "    # (row[0] = label 0 and row[1] = label 1)\n",
        "  label_0 = np.sum(kNN_labels == 0, axis=0)\n",
        "  label_1 = np.sum(kNN_labels == 1, axis=0)\n",
        "\n",
        "  kNN_LabelsCounter = np.vstack((label_0, label_1))\n",
        "\n",
        "  # 3. Handling voting ties\n",
        "  if k % 2 == 0:\n",
        "    weights = 1/(kNN_distances+1e-9) # add 1e-9 to mitigate division by 0\n",
        "\n",
        "    W_0 = np.sum(weights*(kNN_labels == 0), axis=0)\n",
        "    W_1 = np.sum(weights*(kNN_labels == 1), axis=0)\n",
        "\n",
        "    # 0 if condition True, otherwise 1\n",
        "    predictions = np.where(W_0 > W_1, 0, 1)\n",
        "\n",
        "  else:\n",
        "    # Majority vote based on counts\n",
        "    predictions = np.argmax(kNN_LabelsCounter, axis=0)\n",
        "\n",
        "  return predictions"
      ]
    },
    {
      "cell_type": "markdown",
      "metadata": {
        "id": "l7ywwRrquVql"
      },
      "source": [
        "### Question 2.2:\n",
        "\n",
        "* **Distance ties**: we will choose a training observation based on the original order. Meaning when two elements have the same distance, the element that appeared first in the original dataset will be selected first.\n",
        "* **Voting ties**: we will compute weigted voting based on the following formula:\n",
        "\n",
        "$$w_i = \\frac{1}{EuclDist(x_i,y)}$$\n",
        "\n",
        "$$W_{0} = \\sum_{i \\in \\text{class 0}}w_i$$\n",
        "$$W_{1} = \\sum_{i \\in \\text{class 1}}w_i$$\n",
        "\n",
        "The class with the higher sum of weighted votes is the predicted class."
      ]
    },
    {
      "cell_type": "markdown",
      "metadata": {
        "id": "IvyEXqiZyQhS"
      },
      "source": [
        "### Question 2.3:"
      ]
    },
    {
      "cell_type": "code",
      "execution_count": null,
      "metadata": {
        "id": "uy6ryGVMYu84"
      },
      "outputs": [],
      "source": [
        "# Citation: https://www.educative.io/answers/how-to-create-a-confusion-matrix-without-scikit-learn\n",
        "\n",
        "def confusion_matrix(y_true, y_pred):\n",
        "  confusion_matrix = np.zeros((2,2), dtype=int)\n",
        "\n",
        "  for i in range(len(y_pred)):\n",
        "    # True Positives (TP)\n",
        "    if int(y_pred[i])==1 and int(y_true[i])==1:\n",
        "        confusion_matrix[0, 0] += 1\n",
        "\n",
        "    # False Positives (FP)\n",
        "    elif int(y_pred[i])==1 and int(y_true[i])==0:\n",
        "        confusion_matrix[0, 1] += 1\n",
        "\n",
        "    # False Negatives (FN)\n",
        "    elif int(y_pred[i])==0 and int(y_true[i])==1:\n",
        "        confusion_matrix[1, 0] += 1\n",
        "\n",
        "    # True Negatives (TN)\n",
        "    elif int(y_pred[i])==0 and int(y_true[i])==0:\n",
        "        confusion_matrix[1, 1] += 1\n",
        "\n",
        "  return confusion_matrix"
      ]
    },
    {
      "cell_type": "code",
      "execution_count": null,
      "metadata": {
        "colab": {
          "base_uri": "https://localhost:8080/"
        },
        "id": "JJR-GH7S0P2X",
        "outputId": "84046307-eced-4c5a-8aa1-46d56e0ec282"
      },
      "outputs": [
        {
          "output_type": "stream",
          "name": "stdout",
          "text": [
            "TP FP \n",
            "FN TN\n",
            "---------------------------------\n",
            "kNN from scratch\n",
            "\n",
            "Confusion matrix: k = 1\n",
            "[[3345 1538]\n",
            " [1655 3462]]\n",
            "\n",
            "Confusion matrix: k = 3\n",
            "[[3565 1632]\n",
            " [1435 3368]]\n",
            "\n",
            "Confusion matrix: k = 5\n",
            "[[3765 1695]\n",
            " [1235 3305]]\n"
          ]
        }
      ],
      "source": [
        "# Confusion matrices for kNN from scratch\n",
        "\n",
        "print(\"TP FP \\nFN TN\")\n",
        "print(\"---------------------------------\")\n",
        "print(\"kNN from scratch\")\n",
        "\n",
        "train_data = np.concatenate((X_train, y_train.reshape(-1,1)), axis=1)\n",
        "\n",
        "for k in [1, 3, 5]:\n",
        "  y_pred = kNN_classifier(train_data, X_test, k)\n",
        "\n",
        "  print(f\"\\nConfusion matrix: k = {k}\")\n",
        "  print(confusion_matrix(y_test, y_pred))"
      ]
    },
    {
      "cell_type": "code",
      "execution_count": null,
      "metadata": {
        "colab": {
          "base_uri": "https://localhost:8080/"
        },
        "id": "X_21eKXmyTjG",
        "outputId": "338c65ba-2b3d-4697-af7e-59be6d7fe14f"
      },
      "outputs": [
        {
          "output_type": "stream",
          "name": "stdout",
          "text": [
            "TP FP \n",
            "FN TN\n",
            "---------------------------------\n",
            "kNN from Sklearn\n",
            "\n",
            "Confusion matrix: k = 1\n",
            "[[3345 1538]\n",
            " [1655 3462]]\n",
            "\n",
            "Confusion matrix: k = 3\n",
            "[[3565 1632]\n",
            " [1435 3368]]\n",
            "\n",
            "Confusion matrix: k = 5\n",
            "[[3765 1695]\n",
            " [1235 3305]]\n"
          ]
        }
      ],
      "source": [
        "# Confusion matrices for kNN from sklearn library\n",
        "\n",
        "X_train = train_data[:,:-1]\n",
        "y_train = train_data[:,-1]\n",
        "\n",
        "print(\"TP FP \\nFN TN\")\n",
        "print(\"---------------------------------\")\n",
        "print(\"kNN from Sklearn\")\n",
        "\n",
        "for k in [1, 3, 5]:\n",
        "  knn = KNeighborsClassifier(n_neighbors=k)\n",
        "  knn.fit(X_train, y_train)\n",
        "  y_pred = knn.predict(X_test)\n",
        "\n",
        "  print(f\"\\nConfusion matrix: k = {k}\")\n",
        "  print(confusion_matrix(y_test, y_pred))"
      ]
    },
    {
      "cell_type": "markdown",
      "metadata": {
        "id": "jnlhxMwXeMK6"
      },
      "source": [
        "# Part 3: cvKNN\n"
      ]
    },
    {
      "cell_type": "markdown",
      "metadata": {
        "id": "M1zNnMJWsQ19"
      },
      "source": [
        "## Question 3.1:\n",
        "The maximum candidate value for *K* is 180 because, in 10-fold cross-validation with 200 total training points, 180 points will be allocated to the training set, while the remaining 20 points will be used for validation. Since the test point can be compared to, at most, 180 nearest neighbors from the training set, this becomes the upper limit for K."
      ]
    },
    {
      "cell_type": "code",
      "execution_count": null,
      "metadata": {
        "id": "IZ_8bShN019W"
      },
      "outputs": [],
      "source": [
        "def divide_to_folds(n_rows, n_folds):\n",
        "\n",
        "  fold_size = int(np.floor(n_rows/n_folds))\n",
        "  fold_indices = range(0, fold_size*n_folds)\n",
        "  remainder = n_rows - fold_size*n_folds\n",
        "\n",
        "  train_folds = []\n",
        "  valid_folds = []\n",
        "\n",
        "  for i in range(n_folds):\n",
        "\n",
        "    valid_folds.append(list(range(i*fold_size, (i+1)*fold_size)))\n",
        "    train_folds.append(list(np.setdiff1d(fold_indices, valid_folds[i])))\n",
        "\n",
        "  # Remainder points were distributed across train sets to ensure consistency in performance evaluation\n",
        "  if remainder != 0:\n",
        "\n",
        "    while remainder != 0:\n",
        "      train_folds[remainder-1].append(fold_size*n_folds+(remainder-1))\n",
        "      remainder -= 1\n",
        "\n",
        "  return valid_folds, train_folds\n",
        "\n",
        "def cvError(y_true, y_pred):\n",
        "\n",
        "  y_true = np.array(y_true)\n",
        "  y_pred = np.array(y_pred)\n",
        "\n",
        "  correct_predictions = np.sum(y_true == y_pred)\n",
        "\n",
        "  return 1 - (correct_predictions/len(y_true))\n",
        "\n",
        "\n",
        "def cv_kNN(data, k, n_folds):\n",
        "\n",
        "  valid_folds, train_folds = divide_to_folds(data.shape[0], n_folds)\n",
        "  total_error = 0\n",
        "\n",
        "  for i in range(n_folds):\n",
        "\n",
        "    X_train = train_data[train_folds[i],:-1]\n",
        "    y_train = train_data[train_folds[i],-1]\n",
        "\n",
        "    X_valid = train_data[valid_folds[i],:-1]\n",
        "    y_valid = train_data[valid_folds[i],-1]\n",
        "\n",
        "    knn = KNeighborsClassifier(n_neighbors=k)\n",
        "    knn.fit(X_train, y_train)\n",
        "    y_pred = knn.predict(X_valid)\n",
        "\n",
        "    total_error += cvError(y_valid, y_pred)\n",
        "\n",
        "  return total_error/n_folds"
      ]
    },
    {
      "cell_type": "code",
      "execution_count": null,
      "metadata": {
        "id": "nPzDiW1meRcb"
      },
      "outputs": [],
      "source": [
        "# Shuffle the data\n",
        "train_data_shuffled = shuffle(train_data, random_state=12)\n",
        "\n",
        "k_cvError = []\n",
        "\n",
        "n_folds = 10\n",
        "\n",
        "# Compute 10-fold CV error (average accuracy) for each K on shuffled dataset\n",
        "for k in range(1, 180):\n",
        "  k_cvError.append(cv_kNN(train_data_shuffled, k, n_folds))"
      ]
    },
    {
      "cell_type": "code",
      "execution_count": null,
      "metadata": {
        "colab": {
          "base_uri": "https://localhost:8080/"
        },
        "id": "hShsitP1TspJ",
        "outputId": "8d7e7586-ed95-4430-c83b-e746dc1b0c7f"
      },
      "outputs": [
        {
          "output_type": "stream",
          "name": "stdout",
          "text": [
            "The smallest CV error = 0.36999999999999994 was under k = 3.\n"
          ]
        }
      ],
      "source": [
        "# Find the minimum error\n",
        "min_error = np.min(k_cvError)\n",
        "\n",
        "# Find all indices that correspond to the minimum error\n",
        "best_k_indices = np.where(k_cvError == min_error)[0]  # Get all indices with the min error\n",
        "\n",
        "# Since index+1 corresponds to K, find the largest K\n",
        "best_k = max(best_k_indices + 1)\n",
        "\n",
        "print(f\"The smallest CV error = {k_cvError[best_k-1]} was under k = {best_k}.\")"
      ]
    },
    {
      "cell_type": "code",
      "execution_count": null,
      "metadata": {
        "colab": {
          "base_uri": "https://localhost:8080/",
          "height": 472
        },
        "id": "1WDlBWL_PHiX",
        "outputId": "e4817648-0f24-4939-96e7-4b33c4067058"
      },
      "outputs": [
        {
          "output_type": "display_data",
          "data": {
            "text/plain": [
              "<Figure size 640x480 with 1 Axes>"
            ],
            "image/png": "[encoded data removed]"
          },
          "metadata": {}
        }
      ],
      "source": [
        "# Visualize n-fold CV error (average accuracy) for each K\n",
        "k = range(1, 180)\n",
        "\n",
        "plt.plot(k, k_cvError)\n",
        "\n",
        "# Draw a vertical line at the x position where y is maximum\n",
        "plt.axvline(x=best_k, color='red', linestyle='--', label=f'Max Value: {min_error}')\n",
        "\n",
        "plt.xlabel('k')\n",
        "plt.ylabel('CV Error (10-fold)')\n",
        "plt.title('k vs CV Error')\n",
        "plt.show()"
      ]
    },
    {
      "cell_type": "markdown",
      "metadata": {
        "id": "Y3LnwVK1SV5F"
      },
      "source": [
        "## Question 3.2:"
      ]
    },
    {
      "cell_type": "code",
      "execution_count": null,
      "metadata": {
        "colab": {
          "base_uri": "https://localhost:8080/"
        },
        "id": "-2Dt12UqSOY3",
        "outputId": "7e3f465f-9ca9-44ee-f7ab-8d136bca1545"
      },
      "outputs": [
        {
          "output_type": "stream",
          "name": "stdout",
          "text": [
            "Test error = 0.3067\n",
            "________________________________\n",
            "TP FP \n",
            "FN TN\n",
            "--------------------------------\n",
            "kNN from Sklearn\n",
            "\n",
            "Confusion matrix (sklearn): k = 3\n",
            "[[3565 1632]\n",
            " [1435 3368]]\n"
          ]
        }
      ],
      "source": [
        "# Testing kNN with optimal k on unseen test data\n",
        "\n",
        "knn = KNeighborsClassifier(n_neighbors=best_k)\n",
        "knn.fit(X_train, y_train)\n",
        "y_pred = knn.predict(X_test)\n",
        "\n",
        "print(f\"Test error = {cvError(y_test, y_pred)}\")\n",
        "print(\"________________________________\")\n",
        "print(\"TP FP \\nFN TN\")\n",
        "print(\"--------------------------------\")\n",
        "print(\"kNN from Sklearn\")\n",
        "print(f\"\\nConfusion matrix (sklearn): k = {best_k}\")\n",
        "print(confusion_matrix(y_test, y_pred))"
      ]
    },
    {
      "cell_type": "markdown",
      "metadata": {
        "id": "unpt-AvBH-l6"
      },
      "source": [
        "# Part 4: Bayes Rule Classifier\n"
      ]
    },
    {
      "cell_type": "markdown",
      "metadata": {
        "id": "JBbI6lKiZhU4"
      },
      "source": [
        "## Part 4.1:\n",
        "\n",
        "The calculations for Bayes Rule for Binary Classification given in the assignment:\n",
        "\n",
        "$$\\sum_{l = 1}^{10}exp(-||\\textbf{x} - \\textbf{m}_{l1}||^2/(2s^2) \\geq \\sum_{l = 1}^{10}exp(-||\\textbf{x} - \\textbf{m}_{l0}||^2/(2s^2)  $$\n",
        "\n",
        "This rule is implemented in the ```Bayes_Rule_Classifier``` function and uses reshaping and broadcasting in Numpy to avoid loops. A Citation is Darin Zhen's CampusWire post #35 for the idea and the Numpy docs for how to use it: https://numpy.org/devdocs/user/basics.broadcasting.html\n",
        "\n",
        "\n",
        "Also instead of dividing the two probabilities & comparing to 1:\n",
        "$$\\dfrac{P(Y = 1 | X = x)}\n",
        "{P(Y = 0 | X = x)}\n",
        "≥ 1$$\n",
        "\n",
        "it is more efficient to compare the 2 proababilites as shown in the calculation part as we avoid the extra division computation.\n"
      ]
    },
    {
      "cell_type": "code",
      "execution_count": null,
      "metadata": {
        "id": "f52K5IcgIGIE"
      },
      "outputs": [],
      "source": [
        "# Input: the test matrix x_test, using this function assumes we have m1, m0 and s initalized\n",
        "# Output: The y vector of predictions, for each element, if it is true it belongs to class 1, otherwise class 0\n",
        "def Bayes_Rule_Classifier(x_test):\n",
        "  # Reshape X matrix to work with broadcasting\n",
        "  x_test = x_test[:, np.newaxis, :] # (N, 1, 2)\n",
        "\n",
        "  # Calculate m1 & m0 sums\n",
        "  # Numpy Broadcasting makes x_test & m1/m0 each have shape (N, 10, 2), so subtraction is possible\n",
        "\n",
        "  sum_m1 = (np.exp(-((x_test - m1)**2).sum(axis=2) / (2 * s**2))).sum(axis=1) # || (N, 10, 2) - (N, 10, 2) ||^2 -> (N, 10)\n",
        "  sum_m0 = (np.exp(-((x_test - m0)**2).sum(axis=2) / (2 * s**2))).sum(axis=1) # Then summing over the centers after exponentiation gives shape (N,1)\n",
        "\n",
        "  # Then use the rule for classification\n",
        "  return (sum_m1 >= sum_m0)\n"
      ]
    },
    {
      "cell_type": "markdown",
      "metadata": {
        "id": "9z_T79UEdncq"
      },
      "source": [
        "## Part 4.2:\n",
        "\n",
        "Results after running on test data"
      ]
    },
    {
      "cell_type": "code",
      "execution_count": null,
      "metadata": {
        "colab": {
          "base_uri": "https://localhost:8080/"
        },
        "id": "91JODRphd0OR",
        "outputId": "e9cd703c-4b96-41b3-ec6d-06c96cfb5108"
      },
      "outputs": [
        {
          "output_type": "stream",
          "name": "stdout",
          "text": [
            "TP FP \n",
            "FN TN\n",
            "---------------------------------\n",
            "Bayes Rule Classifier from scratch\n",
            "[[3993 1483]\n",
            " [1007 3517]]\n"
          ]
        }
      ],
      "source": [
        "y_pred = Bayes_Rule_Classifier(X_test)\n",
        "conf_matrix = confusion_matrix(y_test, y_pred)\n",
        "print(\"TP FP \\nFN TN\")\n",
        "print(\"---------------------------------\")\n",
        "print(\"Bayes Rule Classifier from scratch\")\n",
        "print(conf_matrix)"
      ]
    },
    {
      "cell_type": "markdown",
      "metadata": {
        "id": "LhSww_jZ__fm"
      },
      "source": [
        "# Part 5: Simulation Study\n"
      ]
    },
    {
      "cell_type": "code",
      "execution_count": null,
      "metadata": {
        "id": "5ek1k-TUXY2y"
      },
      "outputs": [],
      "source": [
        "knn_error = []\n",
        "CVknn_error = []\n",
        "CVknn_k = []\n",
        "bayes_error = []\n",
        "\n",
        "for i in range(50):\n",
        "  # Generate train data\n",
        "  csize = 10\n",
        "  p = 2\n",
        "  s = 1\n",
        "  n = 100\n",
        "  id1 = np.random.randint(csize, size = n)\n",
        "  id0 = np.random.randint(csize, size = n)\n",
        "  X_train = np.random.normal(size = (2 * n, p)) * s \\\n",
        "              + np.concatenate([m1[id1,:], m0[id0,:]])\n",
        "  y_train = np.concatenate(([1]*n, [0]*n))\n",
        "\n",
        "  # Generate test data\n",
        "  n = 5000\n",
        "  id1 = np.random.randint(csize, size = n)\n",
        "  id0 = np.random.randint(csize, size = n)\n",
        "  X_test = np.random.normal(size = (2 * n, p)) * s \\\n",
        "              + np.concatenate([m1[id1,:], m0[id0,:]])\n",
        "  y_test = np.concatenate(([1]*n, [0]*n))\n",
        "\n",
        "  # 5.1 KNN with k=7\n",
        "  knn = KNeighborsClassifier(n_neighbors=7)\n",
        "  knn.fit(X_train, y_train)\n",
        "  y_pred = knn.predict(X_test)\n",
        "\n",
        "  knn_error.append(cvError(y_test, y_pred))\n",
        "\n",
        "  # 5.2 KNN with K chosen by 10-fold CV\n",
        "  n_folds = 10\n",
        "  all_CV_errors = []\n",
        "\n",
        "  train_data = np.concatenate((X_train, y_train.reshape(-1,1)), axis=1)\n",
        "  train_data_shuffled = shuffle(train_data, random_state=12)\n",
        "\n",
        "  for k in range(1, 180):\n",
        "    all_CV_errors.append(cv_kNN(train_data_shuffled, k, n_folds))\n",
        "\n",
        "  min_error = np.min(all_CV_errors)\n",
        "\n",
        "  # Logging the best k\n",
        "  best_k_indices = np.where(all_CV_errors == min_error)[0]\n",
        "  best_k = max(best_k_indices + 1)\n",
        "  CVknn_k.append(best_k)\n",
        "\n",
        "  # Logging the test error for best k\n",
        "  knn = KNeighborsClassifier(n_neighbors=best_k)\n",
        "  knn.fit(X_train, y_train)\n",
        "  y_pred = knn.predict(X_test)\n",
        "  CVknn_error.append(cvError(y_test, y_pred))\n",
        "\n",
        "  # 5.3 Bayes classifier\n",
        "  y_pred = Bayes_Rule_Classifier(X_test)\n",
        "  bayes_error.append(cvError(y_test, y_pred))"
      ]
    },
    {
      "cell_type": "code",
      "execution_count": null,
      "metadata": {
        "colab": {
          "base_uri": "https://localhost:8080/",
          "height": 430
        },
        "id": "B6GruU-0__Lk",
        "outputId": "7c54ea5d-1997-40f1-d850-7178cdb9b82b"
      },
      "outputs": [
        {
          "output_type": "display_data",
          "data": {
            "text/plain": [
              "<Figure size 640x480 with 1 Axes>"
            ],
            "image/png": "[encoded data removed]"
          },
          "metadata": {}
        }
      ],
      "source": [
        "# Graph\n",
        "plt.boxplot([knn_error, CVknn_error, bayes_error])\n",
        "plt.xticks([1, 2, 3], ['kNN (K=7)', 'kNN (10-fold CV)', 'Bayes Rule']);"
      ]
    },
    {
      "cell_type": "code",
      "execution_count": null,
      "metadata": {
        "colab": {
          "base_uri": "https://localhost:8080/"
        },
        "id": "s1WTXy14wlAR",
        "outputId": "7ba8202d-80f9-4235-cbab-f63352ef3b41"
      },
      "outputs": [
        {
          "output_type": "stream",
          "name": "stdout",
          "text": [
            "1\n",
            "68\n",
            "8.0\n",
            "3.5\n",
            "19.75\n"
          ]
        }
      ],
      "source": [
        "# Numerical Report\n",
        "print(np.min(CVknn_k))\n",
        "print(np.max(CVknn_k))\n",
        "print(np.median(CVknn_k))\n",
        "print(np.percentile(CVknn_k, 25))\n",
        "print(np.percentile(CVknn_k, 75))"
      ]
    }
  ],
  "metadata": {
    "colab": {
      "provenance": []
    },
    "kernelspec": {
      "display_name": "Python 3",
      "name": "python3"
    },
    "language_info": {
      "name": "python"
    }
  },
  "nbformat": 4,
  "nbformat_minor": 0
}